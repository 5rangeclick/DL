{
  "nbformat": 4,
  "nbformat_minor": 0,
  "metadata": {
    "colab": {
      "provenance": [],
      "gpuType": "T4",
      "toc_visible": true,
      "authorship_tag": "ABX9TyM0CypJSFs32S6AtrNiqx3l",
      "include_colab_link": true
    },
    "kernelspec": {
      "name": "python3",
      "display_name": "Python 3"
    },
    "language_info": {
      "name": "python"
    },
    "accelerator": "GPU"
  },
  "cells": [
    {
      "cell_type": "markdown",
      "metadata": {
        "id": "view-in-github",
        "colab_type": "text"
      },
      "source": [
        "<a href=\"https://colab.research.google.com/github/5rangeclick/DL/blob/main/Pytorch_0818.ipynb\" target=\"_parent\"><img src=\"https://colab.research.google.com/assets/colab-badge.svg\" alt=\"Open In Colab\"/></a>"
      ]
    },
    {
      "cell_type": "code",
      "source": [
        "import torch\n",
        "import numpy as np\n",
        "import torch #파이토치 딥러닝 프레임워크\n",
        "import torch.nn as nn #선형식을 선언하기 위해 씀\n",
        "import torch.nn.functional as F #수학적 함수를 불러올 때\n",
        "import torch.optim as optim # 옵티마이저 불러오려고\n"
      ],
      "metadata": {
        "id": "7PlYTlBHPo_d"
      },
      "execution_count": 31,
      "outputs": []
    },
    {
      "cell_type": "code",
      "execution_count": null,
      "metadata": {
        "id": "bA97860tPWZ6"
      },
      "outputs": [],
      "source": [
        "t = np.array([[[0, 1, 2],\n",
        "               [3, 4, 5]],\n",
        "              [[6, 7, 8],\n",
        "               [9, 10, 11]]])\n",
        "ft = torch.FloatTensor(t) #FloatTensor로 감싸주면 타입이 바뀜. ft라는 3차원의 데이터로."
      ]
    },
    {
      "cell_type": "code",
      "source": [
        "print(ft.shape) #길이가 3인 ~~ 배열이 2개.. 3차원 배열"
      ],
      "metadata": {
        "colab": {
          "base_uri": "https://localhost:8080/"
        },
        "id": "wqV6i7AJPk09",
        "outputId": "4bd3e1aa-bafb-4799-cf47-41e6ef489fde"
      },
      "execution_count": null,
      "outputs": [
        {
          "output_type": "stream",
          "name": "stdout",
          "text": [
            "torch.Size([2, 2, 3])\n"
          ]
        }
      ]
    },
    {
      "cell_type": "code",
      "source": [],
      "metadata": {
        "id": "I79h7Q5aQbNJ"
      },
      "execution_count": null,
      "outputs": []
    },
    {
      "cell_type": "code",
      "source": [
        "ft.view(-1,2) #view: 차원을 변형해주는 함수. 파이썬 내장함수가 아닌 torch.FloatTensor의 내장함수임."
      ],
      "metadata": {
        "colab": {
          "base_uri": "https://localhost:8080/"
        },
        "id": "mCOPKycrP97x",
        "outputId": "5d797716-845d-4b34-e989-2e153a3b6f90"
      },
      "execution_count": null,
      "outputs": [
        {
          "output_type": "execute_result",
          "data": {
            "text/plain": [
              "tensor([[ 0.,  1.],\n",
              "        [ 2.,  3.],\n",
              "        [ 4.,  5.],\n",
              "        [ 6.,  7.],\n",
              "        [ 8.,  9.],\n",
              "        [10., 11.]])"
            ]
          },
          "metadata": {},
          "execution_count": 9
        }
      ]
    },
    {
      "cell_type": "code",
      "source": [
        "(3,1,-1)#열의 사이즈가 3, 데이터가 하나, 나머지는 너 알아서 해라(=-1)"
      ],
      "metadata": {
        "id": "1_oxCNA_QKJZ"
      },
      "execution_count": null,
      "outputs": []
    },
    {
      "cell_type": "code",
      "source": [
        "narray = np.array([[1,2,3],\n",
        "          [4,5,6],\n",
        "          [7,8,9]])\n",
        "\n",
        "tf_array = torch.FloatTensor(narray)\n",
        "print(ft_array)\n",
        "\n",
        "tf_array.view(-1)"
      ],
      "metadata": {
        "colab": {
          "base_uri": "https://localhost:8080/"
        },
        "id": "nPiTmucQQ0sB",
        "outputId": "e481a646-607e-4800-a2e4-9114b13fb559"
      },
      "execution_count": null,
      "outputs": [
        {
          "output_type": "stream",
          "name": "stdout",
          "text": [
            "tensor([[1., 2., 3.],\n",
            "        [4., 5., 6.],\n",
            "        [7., 8., 9.]])\n"
          ]
        },
        {
          "output_type": "execute_result",
          "data": {
            "text/plain": [
              "tensor([1., 2., 3., 4., 5., 6., 7., 8., 9.])"
            ]
          },
          "metadata": {},
          "execution_count": 15
        }
      ]
    },
    {
      "cell_type": "code",
      "source": [
        "\n",
        "#스퀴즈 = 줄인다\n",
        "#3,1의\n",
        "ft = torch.FloatTensor()"
      ],
      "metadata": {
        "id": "5StcOYk6RAL8"
      },
      "execution_count": null,
      "outputs": []
    },
    {
      "cell_type": "code",
      "source": [
        "#언스퀴즈. 차원이 추가된다.\n",
        "un_ft = ft.unsqueeze(0)#인덱스로 생각하기 = 0번째 인덱스를 추가해라 =첫번째 인덱스\n",
        "ft.unsqueeze(-1) #마지막을 추가해라\n",
        "print(un_ft)\n",
        "print"
      ],
      "metadata": {
        "id": "J5O3W-SIRo-C"
      },
      "execution_count": null,
      "outputs": []
    },
    {
      "cell_type": "code",
      "source": [
        "import torch #파이토치 딥러닝 프레임워크\n",
        "import torch.nn as nn #선형식을 선언하기 위해 씀\n",
        "import torch.nn.functional as F #수학적 함수를 불러올 때\n",
        "import torch.optim as optim # 옵티마이저 불러오려고\n"
      ],
      "metadata": {
        "id": "bmkH3nmiTcFb"
      },
      "execution_count": 30,
      "outputs": []
    },
    {
      "cell_type": "code",
      "source": [
        "# 현재 실습하고 있는 파이썬 코드를 재실행해도 다음에도 같은 결과가 나오도록 랜덤 시드(random seed)를 줍니다.\n",
        "# torch.manual_seed(1)\n"
      ],
      "metadata": {
        "id": "8qSLJArtTtI5"
      },
      "execution_count": null,
      "outputs": []
    },
    {
      "cell_type": "code",
      "source": [
        "#허리둘레로 몸무게 예측\n",
        "x_train = torch.FloatTensor([[32], [29], [26]]) #cm\n",
        "y_train = torch.FloatTensor([[77], [70], [65]]) #kg"
      ],
      "metadata": {
        "id": "nIqBateXUxgP"
      },
      "execution_count": null,
      "outputs": []
    },
    {
      "cell_type": "code",
      "source": [
        "print(x_train)\n",
        "print(x_train.shape) #3개의 데이터, 하나의 피쳐값"
      ],
      "metadata": {
        "colab": {
          "base_uri": "https://localhost:8080/"
        },
        "id": "gRCOALOCVMq-",
        "outputId": "574b62c4-0b62-464f-f675-15033e8e5b4d"
      },
      "execution_count": null,
      "outputs": [
        {
          "output_type": "stream",
          "name": "stdout",
          "text": [
            "tensor([[32.],\n",
            "        [29.],\n",
            "        [26.]])\n",
            "torch.Size([3, 1])\n"
          ]
        }
      ]
    },
    {
      "cell_type": "code",
      "source": [
        "# 모델 초기화\n",
        "W = torch.zeros(1, requires_grad=True)\n",
        "b = torch.zeros(1, requires_grad=True)"
      ],
      "metadata": {
        "id": "dThxGNhLVT1F"
      },
      "execution_count": null,
      "outputs": []
    },
    {
      "cell_type": "code",
      "source": [
        "print(W)\n",
        "print(b)"
      ],
      "metadata": {
        "colab": {
          "base_uri": "https://localhost:8080/"
        },
        "id": "5aqUMyzSVTzK",
        "outputId": "a2b900ea-bacd-45fd-ef64-9713031283d4"
      },
      "execution_count": null,
      "outputs": [
        {
          "output_type": "stream",
          "name": "stdout",
          "text": [
            "tensor([0.], requires_grad=True)\n",
            "tensor([0.], requires_grad=True)\n"
          ]
        }
      ]
    },
    {
      "cell_type": "code",
      "source": [
        "#예측값과 정답값의 차이를 계산하기 위해 loss가 필요, ~하기 위해 옵티마이저 설정"
      ],
      "metadata": {
        "id": "ZAwB1O8AVmMm"
      },
      "execution_count": null,
      "outputs": []
    },
    {
      "cell_type": "code",
      "source": [
        "# optimizer 설정\n",
        "optimizer = optim.Adam([W, b], lr=0.01) #아담의 특성: 모멘텀과 스텝사이즈 두 가지를 고려해서 만듦. 너는 모델에서 W랑 b만 업데이트 시켜.\n",
        "#learnable parameter\n",
        "#보폭 사이즈"
      ],
      "metadata": {
        "id": "PgE_RZzEVroG"
      },
      "execution_count": null,
      "outputs": []
    },
    {
      "cell_type": "code",
      "source": [
        "epochs = 1999 # 원하는만큼 경사 하강법을 반복 #전체데이터를 몇 번 훑을 거야?"
      ],
      "metadata": {
        "id": "ECXOhYbzWEkh"
      },
      "execution_count": null,
      "outputs": []
    },
    {
      "cell_type": "code",
      "source": [
        "for epoch in range(epochs):\n",
        "\n",
        "    #모델 식\n",
        "    predict = W * x_train + b # y = WX + b 선형회귀를 위한 일차방정식\n",
        "\n",
        "    # cost 계산\n",
        "    cost = torch.mean((predict - y_train) ** 2) #MSE. 민스퀘어에러\n",
        "\n",
        "    #RMSE(루트민스퀘어에러) 계산 = cost ** (1/2)\n",
        "\n",
        "\n",
        "\n",
        "    # cost로 모델 식 개선\n",
        "    optimizer.zero_grad() #기울기를 스텝마다 다시 구해야 하므로, 옵티가 가지고 있는 기울기를 초기화. for문 시작에 넣을 수도 있음.\n",
        "    cost.backward() #역전파하는 게 아니라, 코스트에 대한 기울기를 구하는 것.\n",
        "    optimizer.step() #이때 역전파\n",
        "\n",
        "    # 100번마다 로그 출력\n",
        "    if epoch % 100 == 0:\n",
        "        print('Epoch {:4d}/{} W: {:.3f}, b: {:.3f} Cost: {:.6f}'.format(\n",
        "            epoch, epochs, W.item(), b.item(), cost.item()\n",
        "        ))"
      ],
      "metadata": {
        "colab": {
          "base_uri": "https://localhost:8080/"
        },
        "id": "vUI-4P6EVTw5",
        "outputId": "5cb5e993-d8b0-44aa-be5e-bef11847b18b"
      },
      "execution_count": null,
      "outputs": [
        {
          "output_type": "stream",
          "name": "stdout",
          "text": [
            "Epoch    0/1999 W: 2.316, b: 3.449 Cost: 0.824220\n",
            "Epoch  100/1999 W: 2.314, b: 3.506 Cost: 0.816759\n",
            "Epoch  200/1999 W: 2.312, b: 3.566 Cost: 0.809016\n",
            "Epoch  300/1999 W: 2.310, b: 3.628 Cost: 0.800980\n",
            "Epoch  400/1999 W: 2.307, b: 3.694 Cost: 0.792655\n",
            "Epoch  500/1999 W: 2.305, b: 3.762 Cost: 0.784026\n",
            "Epoch  600/1999 W: 2.303, b: 3.833 Cost: 0.775100\n",
            "Epoch  700/1999 W: 2.300, b: 3.907 Cost: 0.765870\n",
            "Epoch  800/1999 W: 2.297, b: 3.984 Cost: 0.756338\n",
            "Epoch  900/1999 W: 2.295, b: 4.065 Cost: 0.746497\n",
            "Epoch 1000/1999 W: 2.292, b: 4.148 Cost: 0.736349\n",
            "Epoch 1100/1999 W: 2.289, b: 4.235 Cost: 0.725893\n",
            "Epoch 1200/1999 W: 2.286, b: 4.326 Cost: 0.715133\n",
            "Epoch 1300/1999 W: 2.282, b: 4.420 Cost: 0.704072\n",
            "Epoch 1400/1999 W: 2.279, b: 4.518 Cost: 0.692719\n",
            "Epoch 1500/1999 W: 2.276, b: 4.619 Cost: 0.681075\n",
            "Epoch 1600/1999 W: 2.272, b: 4.725 Cost: 0.669154\n",
            "Epoch 1700/1999 W: 2.268, b: 4.834 Cost: 0.656955\n",
            "Epoch 1800/1999 W: 2.264, b: 4.947 Cost: 0.644492\n",
            "Epoch 1900/1999 W: 2.260, b: 5.064 Cost: 0.631789\n"
          ]
        }
      ]
    },
    {
      "cell_type": "markdown",
      "source": [
        "# 다중 선형 회귀"
      ],
      "metadata": {
        "id": "HTS4Q4g6ddJJ"
      }
    },
    {
      "cell_type": "code",
      "source": [
        "# 다중 선형 회귀 = x가 여러 개인 거"
      ],
      "metadata": {
        "id": "VZOaqErrdfyy"
      },
      "execution_count": null,
      "outputs": []
    },
    {
      "cell_type": "code",
      "source": [
        "x_train  =  torch.FloatTensor([[73,  80,  75],\n",
        "                               [93,  88,  93],\n",
        "                               [89,  91,  80],\n",
        "                               [96,  98,  100],\n",
        "                               [73,  66,  70]])\n",
        "y_train  =  torch.FloatTensor([[152],  [185],  [180],  [196],  [142]])\n"
      ],
      "metadata": {
        "id": "aDcwRPrkVTvL"
      },
      "execution_count": null,
      "outputs": []
    },
    {
      "cell_type": "code",
      "source": [
        "# 모델 초기화\n",
        "W = torch.zeros((3, 1), requires_grad=True)\n",
        "b = torch.zeros(1, requires_grad=True)"
      ],
      "metadata": {
        "id": "mf7loS6gVTso"
      },
      "execution_count": null,
      "outputs": []
    },
    {
      "cell_type": "code",
      "source": [
        "print(W)\n",
        "print(b)"
      ],
      "metadata": {
        "colab": {
          "base_uri": "https://localhost:8080/"
        },
        "id": "wzggEX0SVTqA",
        "outputId": "2709e847-42d9-4cc7-da4e-c9a63e32ca18"
      },
      "execution_count": null,
      "outputs": [
        {
          "output_type": "stream",
          "name": "stdout",
          "text": [
            "tensor([[0.],\n",
            "        [0.],\n",
            "        [0.]], requires_grad=True)\n",
            "tensor([0.], requires_grad=True)\n"
          ]
        }
      ]
    },
    {
      "cell_type": "code",
      "source": [
        "# optimizer 설정\n",
        "optimizer = optim.SGD([W, b], lr=1e-5) #확률적경사하강법, 업데이트대상 W,b, 학습률(보폭) 0.00001"
      ],
      "metadata": {
        "id": "yuQ8Z0p_eNlg"
      },
      "execution_count": 11,
      "outputs": []
    },
    {
      "cell_type": "code",
      "source": [
        "epochs = 20\n",
        "for epoch in range(epochs + 1):\n",
        "\n",
        "    # H(x) 계산\n",
        "    # 편향 b는 브로드 캐스팅되어 각 샘플에 더해집니다.\n",
        "    hypothesis = x_train.matmul(W) + b #matmul 매트릭스 멀티플. 다중? 행렬곱 해주는 문법\n",
        "\n",
        "    # cost 계산\n",
        "    cost = torch.mean((hypothesis - y_train) ** 2)\n",
        "\n",
        "    # cost로 H(x) 개선\n",
        "    optimizer.zero_grad()\n",
        "    cost.backward()\n",
        "    optimizer.step()\n",
        "\n",
        "    print('Epoch {:4d}/{} hypothesis: {} Cost: {:.6f}'.format(\n",
        "        epoch, epochs, hypothesis.squeeze().detach(), cost.item()\n",
        "    ))"
      ],
      "metadata": {
        "id": "K0lAGVaNVTnL",
        "colab": {
          "base_uri": "https://localhost:8080/"
        },
        "outputId": "e746f995-51ca-40a0-84ab-436147cc96f3"
      },
      "execution_count": 12,
      "outputs": [
        {
          "output_type": "stream",
          "name": "stdout",
          "text": [
            "Epoch    0/20 hypothesis: tensor([0., 0., 0., 0., 0.]) Cost: 29661.800781\n",
            "Epoch    1/20 hypothesis: tensor([66.7178, 80.1701, 76.1025, 86.0194, 61.1565]) Cost: 9537.694336\n",
            "Epoch    2/20 hypothesis: tensor([104.5421, 125.6208, 119.2478, 134.7861,  95.8280]) Cost: 3069.590820\n",
            "Epoch    3/20 hypothesis: tensor([125.9858, 151.3882, 143.7087, 162.4333, 115.4844]) Cost: 990.670288\n",
            "Epoch    4/20 hypothesis: tensor([138.1429, 165.9963, 157.5768, 178.1071, 126.6283]) Cost: 322.481964\n",
            "Epoch    5/20 hypothesis: tensor([145.0350, 174.2780, 165.4395, 186.9928, 132.9461]) Cost: 107.717064\n",
            "Epoch    6/20 hypothesis: tensor([148.9423, 178.9731, 169.8976, 192.0301, 136.5279]) Cost: 38.687401\n",
            "Epoch    7/20 hypothesis: tensor([151.1574, 181.6347, 172.4254, 194.8856, 138.5585]) Cost: 16.499046\n",
            "Epoch    8/20 hypothesis: tensor([152.4131, 183.1435, 173.8590, 196.5042, 139.7097]) Cost: 9.365656\n",
            "Epoch    9/20 hypothesis: tensor([153.1250, 183.9988, 174.6723, 197.4216, 140.3625]) Cost: 7.071105\n",
            "Epoch   10/20 hypothesis: tensor([153.5285, 184.4835, 175.1338, 197.9415, 140.7325]) Cost: 6.331867\n",
            "Epoch   11/20 hypothesis: tensor([153.7572, 184.7582, 175.3958, 198.2360, 140.9424]) Cost: 6.092532\n",
            "Epoch   12/20 hypothesis: tensor([153.8868, 184.9138, 175.5449, 198.4026, 141.0614]) Cost: 6.013823\n",
            "Epoch   13/20 hypothesis: tensor([153.9602, 185.0019, 175.6299, 198.4969, 141.1288]) Cost: 5.986775\n",
            "Epoch   14/20 hypothesis: tensor([154.0017, 185.0517, 175.6785, 198.5501, 141.1671]) Cost: 5.976314\n",
            "Epoch   15/20 hypothesis: tensor([154.0252, 185.0798, 175.7065, 198.5800, 141.1888]) Cost: 5.971213\n",
            "Epoch   16/20 hypothesis: tensor([154.0385, 185.0956, 175.7229, 198.5966, 141.2012]) Cost: 5.967797\n",
            "Epoch   17/20 hypothesis: tensor([154.0459, 185.1045, 175.7326, 198.6058, 141.2082]) Cost: 5.964961\n",
            "Epoch   18/20 hypothesis: tensor([154.0501, 185.1094, 175.7386, 198.6108, 141.2122]) Cost: 5.962292\n",
            "Epoch   19/20 hypothesis: tensor([154.0524, 185.1120, 175.7424, 198.6134, 141.2145]) Cost: 5.959693\n",
            "Epoch   20/20 hypothesis: tensor([154.0536, 185.1134, 175.7451, 198.6146, 141.2158]) Cost: 5.957091\n"
          ]
        }
      ]
    },
    {
      "cell_type": "markdown",
      "source": [
        "# nn.Module로 구현하는 선형 회귀"
      ],
      "metadata": {
        "id": "zTuHwP-yf_Zd"
      }
    },
    {
      "cell_type": "code",
      "source": [
        "# import torch.nn as nn\n",
        "# model = nn.Linear(input_dim, output_dim) #넣어주면 하나의 선형식을 만들 수 있다."
      ],
      "metadata": {
        "id": "QOtD8ul2fh1M"
      },
      "execution_count": 31,
      "outputs": []
    },
    {
      "cell_type": "code",
      "source": [
        "# 데이터\n",
        "x_train = torch.FloatTensor([[73, 80, 75],\n",
        "                             [93, 88, 93],\n",
        "                             [89, 91, 90],\n",
        "                             [96, 98, 100],\n",
        "                             [73, 66, 70]])\n",
        "y_train = torch.FloatTensor([[152], [185], [180], [196], [142]])"
      ],
      "metadata": {
        "id": "ANPeJbFSgI9U"
      },
      "execution_count": 57,
      "outputs": []
    },
    {
      "cell_type": "code",
      "source": [
        "# 모델을 선언 및 초기화. 다중 선형 회귀이므로 input_dim=3, output_dim=1.\n",
        "model = nn.Linear(3,1) # y = W1x1 + W2x2 + W3x3"
      ],
      "metadata": {
        "id": "2oI7gPyygJWp"
      },
      "execution_count": 58,
      "outputs": []
    },
    {
      "cell_type": "code",
      "source": [
        "print(list(model.parameters())) #모델이 가진 파라미터 출력 => W 3개랑 b 1개, W랑 b는 처음에는 랜덤으로 설정된다. 유지하려면 랜덤 시드 박아주"
      ],
      "metadata": {
        "colab": {
          "base_uri": "https://localhost:8080/"
        },
        "id": "6WJ2HTHjgb38",
        "outputId": "27c07e59-5eb1-4657-b16a-e5eece3632ea"
      },
      "execution_count": 59,
      "outputs": [
        {
          "output_type": "stream",
          "name": "stdout",
          "text": [
            "[Parameter containing:\n",
            "tensor([[-0.4429, -0.3880,  0.1532]], requires_grad=True), Parameter containing:\n",
            "tensor([0.1823], requires_grad=True)]\n"
          ]
        }
      ]
    },
    {
      "cell_type": "code",
      "source": [
        "# optimizer 설정. 경사 하강법 SGD를 사용하고 learning rate를 의미하는 lr은 0.01\n",
        "optimizer = torch.optim.SGD(model.parameters(), lr=1e-5) #모델이 가지고 있는 파라미터들을 업데이트할 준비를 해줘"
      ],
      "metadata": {
        "id": "lb3QYbjZgkAQ"
      },
      "execution_count": 60,
      "outputs": []
    },
    {
      "cell_type": "code",
      "source": [
        "# 전체 훈련 데이터에 대해 경사 하강법을 2,000회 반복\n",
        "nb_epochs = 2000\n",
        "for epoch in range(nb_epochs+1):\n",
        "\n",
        "    # H(x) 계산\n",
        "    prediction = model(x_train) #모델에 괄호치고 데이터를 넣음\n",
        "\n",
        "    # cost 계산\n",
        "    cost = F.mse_loss(prediction, y_train) # <== 파이토치에서 제공하는 평균 제곱 오차 함수 #수학적 함수가 들어간 F라는 모듈. 거기에 mse loss함수가 들어있음.\n",
        "\n",
        "    # cost로 H(x) 개선하는 부분\n",
        "    # gradient를 0으로 초기화\n",
        "    optimizer.zero_grad()\n",
        "    # 비용 함수를 미분하여 gradient 계산\n",
        "    cost.backward() # backward 연산\n",
        "    # W와 b를 업데이트\n",
        "    optimizer.step()\n",
        "\n",
        "    if epoch % 100 == 0:\n",
        "    # 100번마다 로그 출력\n",
        "      print('Epoch {:4d}/{} Cost: {:.6f}'.format(\n",
        "          epoch, nb_epochs, cost.item()\n",
        "      ))"
      ],
      "metadata": {
        "colab": {
          "base_uri": "https://localhost:8080/"
        },
        "id": "IuRmvEGQhEGQ",
        "outputId": "a3dd2aae-da26-4805-a4ce-8f1baaaff73d"
      },
      "execution_count": 61,
      "outputs": [
        {
          "output_type": "stream",
          "name": "stdout",
          "text": [
            "Epoch    0/2000 Cost: 52758.070312\n",
            "Epoch  100/2000 Cost: 1.809262\n",
            "Epoch  200/2000 Cost: 1.760202\n",
            "Epoch  300/2000 Cost: 1.713581\n",
            "Epoch  400/2000 Cost: 1.669219\n",
            "Epoch  500/2000 Cost: 1.627039\n",
            "Epoch  600/2000 Cost: 1.586871\n",
            "Epoch  700/2000 Cost: 1.548641\n",
            "Epoch  800/2000 Cost: 1.512261\n",
            "Epoch  900/2000 Cost: 1.477626\n",
            "Epoch 1000/2000 Cost: 1.444638\n",
            "Epoch 1100/2000 Cost: 1.413204\n",
            "Epoch 1200/2000 Cost: 1.383258\n",
            "Epoch 1300/2000 Cost: 1.354706\n",
            "Epoch 1400/2000 Cost: 1.327503\n",
            "Epoch 1500/2000 Cost: 1.301570\n",
            "Epoch 1600/2000 Cost: 1.276813\n",
            "Epoch 1700/2000 Cost: 1.253191\n",
            "Epoch 1800/2000 Cost: 1.230658\n",
            "Epoch 1900/2000 Cost: 1.209140\n",
            "Epoch 2000/2000 Cost: 1.188563\n"
          ]
        }
      ]
    },
    {
      "cell_type": "code",
      "source": [],
      "metadata": {
        "id": "qhbWamoBhSu0"
      },
      "execution_count": null,
      "outputs": []
    },
    {
      "cell_type": "markdown",
      "source": [
        "# 클래스로 파이토치 모델 구현하기"
      ],
      "metadata": {
        "id": "NkJiEr2whvIp"
      }
    },
    {
      "cell_type": "code",
      "source": [
        "class LinearRegressionModel(nn.Module): # torch.nn.Module을 상속받는 파이썬 클래스\n",
        "    def __init__(self): #\n",
        "        super().__init__() #nn.모듈 한테 상속을 받음. 부모클래스의 init함수를 가져옴\n",
        "        self.linear = nn.Linear(1, 1) #모델의 아키텍쳐? 초기화 # 단순 선형 회귀이므로 input_dim=1, output_dim=1.\n",
        "\n",
        "    def forward(self, x):\n",
        "        return self.linear(x)"
      ],
      "metadata": {
        "id": "dDCRUUsYhyaC"
      },
      "execution_count": 37,
      "outputs": []
    },
    {
      "cell_type": "code",
      "source": [
        "#model = nn.Linear(1,1) 이걸 클래스 형태로 만든 거임\n",
        "model = LinearRegressionModel() #모델 불러옴"
      ],
      "metadata": {
        "id": "fiGHpa3JiN-7"
      },
      "execution_count": 39,
      "outputs": []
    },
    {
      "cell_type": "code",
      "source": [],
      "metadata": {
        "id": "C4kmlHaniQyL"
      },
      "execution_count": null,
      "outputs": []
    },
    {
      "cell_type": "markdown",
      "source": [
        "# appendix"
      ],
      "metadata": {
        "id": "2V3aAmiEih4Z"
      }
    },
    {
      "cell_type": "code",
      "source": [
        "class Sonata: #소나타 설계도\n",
        "    def __init__(self, color):\n",
        "        self.price = 2000\n",
        "        self.km =15\n",
        "        self.color = color\n",
        "    def drive(self): #드라이브함수를 가지고 태어남\n",
        "        print(\"주행을 시작합니다\")\n",
        "\n",
        "\n",
        "yhw_Sonata = Sonata(\"black\") #내 소나타. 초기함수에서 블랙 값이 color이 들어감. self는 객체. self=yhw_Sonata가 되는 것.\n",
        "ldb_Sonata = Sonata(\"red\")"
      ],
      "metadata": {
        "id": "Tna_Va83ij5J"
      },
      "execution_count": 43,
      "outputs": []
    },
    {
      "cell_type": "code",
      "source": [
        "print(yhw_Sonata.color)"
      ],
      "metadata": {
        "colab": {
          "base_uri": "https://localhost:8080/"
        },
        "id": "Whg5sJ9QjxKZ",
        "outputId": "6fcd572f-a5c3-49b3-84ce-ad2d57330f24"
      },
      "execution_count": 44,
      "outputs": [
        {
          "output_type": "stream",
          "name": "stdout",
          "text": [
            "black\n"
          ]
        }
      ]
    },
    {
      "cell_type": "code",
      "source": [
        "yhw_Sonata.drive()"
      ],
      "metadata": {
        "colab": {
          "base_uri": "https://localhost:8080/"
        },
        "id": "l5IzEPAsj4WU",
        "outputId": "891112fa-590f-4cd2-9da6-31394fcb5df0"
      },
      "execution_count": 46,
      "outputs": [
        {
          "output_type": "stream",
          "name": "stdout",
          "text": [
            "주행을 시작합니다\n"
          ]
        }
      ]
    },
    {
      "cell_type": "code",
      "source": [
        "class Car:\n",
        "    def __init__(self):\n",
        "        self.price = 3000\n",
        "        self.color = color\n",
        "        self.km =15\n",
        "\n",
        "class electric_Avante(Car):\n",
        "    def __init__(self, color): #부모 클래스에서 가지고 있는 모든 변수를 가져와서 초기화시켜라\n",
        "        super().__init__(color)\n",
        "        self.battery = 10000\n",
        "\n",
        "yhw_elect_Avante = electric_Avante(\"black\")\n",
        "\n",
        "print(\"부모클래스에서 물려받은 멤버변수 km 확인\", yhw_elect_Avante.km)\n",
        "print(\"부모클래스에서 물려받은 멤버변수 color 확인\", yhw_elect_Avante.color)\n",
        "print(\"부모클래스에서 물려받은 멤버변수 price 확인\", yhw_elect_Avante.price)\n",
        "print(\"자기 자신이 원래 가지고 있던 멤버변수 battery 확인\", yhw_elect_Avante.battery)"
      ],
      "metadata": {
        "id": "Ac_qz5l1kFd9"
      },
      "execution_count": null,
      "outputs": []
    },
    {
      "cell_type": "code",
      "source": [
        "#부모클래스 : 휴먼 멤버변수는 에이지는 10, 젠더는 여자\n",
        "자식클ㄹ래스: 스튜던트 멤버변수는 스튜던트_no\n",
        "\n",
        "다음 결과가 나오도록\n",
        "yhw_student = Student(100) #학생번호 100\n",
        "print(\"학생번호\", yhw_student.student)"
      ],
      "metadata": {
        "id": "uBP8WAKL13U0"
      },
      "execution_count": null,
      "outputs": []
    },
    {
      "cell_type": "code",
      "source": [
        "class Human:\n",
        "    def __init__(self):\n",
        "        self.age = 10\n",
        "        self.gender = \"여자\"\n",
        "\n",
        "class Student(Human):\n",
        "    def __init__(self, student_no):\n",
        "        super().__init__()\n",
        "        self.student_no =student_no\n"
      ],
      "metadata": {
        "id": "8WVKo1jb2_0a"
      },
      "execution_count": 12,
      "outputs": []
    },
    {
      "cell_type": "code",
      "source": [
        "yhw_student = Student(100) #학생번호 100\n",
        "print(\"학생번호\", yhw_student.student_no)\n",
        "print(\"학생나이\", yhw_student.age)"
      ],
      "metadata": {
        "colab": {
          "base_uri": "https://localhost:8080/"
        },
        "id": "LGKZVM923l0G",
        "outputId": "0d276e43-14c4-434a-f2b4-fcf002f0b526"
      },
      "execution_count": 13,
      "outputs": [
        {
          "output_type": "stream",
          "name": "stdout",
          "text": [
            "학생번호 100\n",
            "학생나이 10\n"
          ]
        }
      ]
    },
    {
      "cell_type": "markdown",
      "source": [
        "# 이중 상속"
      ],
      "metadata": {
        "id": "KJ04Nhd-4UQj"
      }
    },
    {
      "cell_type": "code",
      "source": [
        "class Human: #할머니\n",
        "    def __init__(self):\n",
        "        self.age = 10\n",
        "        self.gender = \"여자\"\n",
        "    def asdf(self):\n",
        "        print(\"하하\")\n",
        "\n",
        "class Student(Human): #아빠\n",
        "    def __init__(self, student_no):\n",
        "        super().__init__()\n",
        "        self.student_no =student_no\n",
        "    def qwer(self):\n",
        "        print(\"배부르다\")\n",
        "\n",
        "class Test(Student): #Test는 자기가 가지고 있는 변수는 없다\n",
        "    def __init__(self, student_no):\n",
        "        super().__init__(student_no)\n",
        "\n",
        "yhw_student = Student(100) #학생번호 100\n",
        "print(\"학생번호\", yhw_student.student_no)\n",
        "print(\"학생나이\", yhw_student.age)\n"
      ],
      "metadata": {
        "colab": {
          "base_uri": "https://localhost:8080/"
        },
        "id": "1nXjeS-G3tpD",
        "outputId": "d973d43b-527b-4338-a3a4-cb5cb8cb2ffb"
      },
      "execution_count": 21,
      "outputs": [
        {
          "output_type": "stream",
          "name": "stdout",
          "text": [
            "학생번호 100\n",
            "학생나이 10\n"
          ]
        }
      ]
    },
    {
      "cell_type": "code",
      "source": [
        "yhw_student.qwer()  #아빠거"
      ],
      "metadata": {
        "colab": {
          "base_uri": "https://localhost:8080/"
        },
        "id": "gHBdlVh84v8_",
        "outputId": "494b8cdf-f43d-4a4c-f8e3-6d93be8cfcd4"
      },
      "execution_count": 22,
      "outputs": [
        {
          "output_type": "stream",
          "name": "stdout",
          "text": [
            "배부르다\n"
          ]
        }
      ]
    },
    {
      "cell_type": "code",
      "source": [
        "yhw_student.asdf() #할머니거"
      ],
      "metadata": {
        "colab": {
          "base_uri": "https://localhost:8080/"
        },
        "id": "Lcy2d_4u5dlN",
        "outputId": "8b0c73bd-dc64-408d-b565-8a411ff20e90"
      },
      "execution_count": 23,
      "outputs": [
        {
          "output_type": "stream",
          "name": "stdout",
          "text": [
            "하하\n"
          ]
        }
      ]
    },
    {
      "cell_type": "code",
      "source": [
        "class Human: #할머니\n",
        "    def __init__(self):\n",
        "        self.age = 10\n",
        "        self.gender = \"여자\"\n",
        "    def asdf(self):\n",
        "        print(\"하하\")\n",
        "\n",
        "class Student(Human): #아빠\n",
        "    def __init__(self, student_no):\n",
        "        super().__init__()\n",
        "        self.student_no =student_no\n",
        "    def qwer(self):\n",
        "        print(\"배부르다\")\n",
        "\n",
        "class Test(Student): #Test는 자기가 가지고 있는 변수는 없다\n",
        "    def __init__(self, student_no):\n",
        "        Student.__init__(student_no)\n",
        "        Human.__init__(student_no)\n",
        "\n",
        "yhw_student = Student(100) #학생번호 100\n",
        "print(\"학생번호\", yhw_student.student_no)\n",
        "print(\"학생나이\", yhw_student.age)\n"
      ],
      "metadata": {
        "colab": {
          "base_uri": "https://localhost:8080/"
        },
        "id": "F2SobhlZ5gHq",
        "outputId": "e805beb1-3e34-4eac-cef8-252ed0ed402c"
      },
      "execution_count": 27,
      "outputs": [
        {
          "output_type": "stream",
          "name": "stdout",
          "text": [
            "학생번호 100\n",
            "학생나이 10\n"
          ]
        }
      ]
    },
    {
      "cell_type": "code",
      "source": [],
      "metadata": {
        "id": "czg1RY-A6QS4"
      },
      "execution_count": null,
      "outputs": []
    },
    {
      "cell_type": "code",
      "source": [],
      "metadata": {
        "id": "iT5CGkn164M-"
      },
      "execution_count": null,
      "outputs": []
    },
    {
      "cell_type": "markdown",
      "source": [
        "# 클래스로 파이토치 모델 구현하기"
      ],
      "metadata": {
        "id": "2qPqfoU77Dbv"
      }
    },
    {
      "cell_type": "code",
      "source": [
        "# 데이터\n",
        "x_train = torch.FloatTensor([[73, 80, 75],\n",
        "                             [93, 88, 93],\n",
        "                             [89, 91, 90],\n",
        "                             [96, 98, 100],\n",
        "                             [73, 66, 70]])\n",
        "y_train = torch.FloatTensor([[152], [185], [180], [196], [142]])"
      ],
      "metadata": {
        "id": "mfkU-nXa7pnQ"
      },
      "execution_count": 36,
      "outputs": []
    },
    {
      "cell_type": "code",
      "source": [
        "class LinearRegressionModel(nn.Module): # torch.nn.Module을 상속받는 파이썬 클래스\n",
        "    def __init__(self): #\n",
        "        super().__init__() #nn.모듈 한테 상속을 받음. 부모클래스의 init함수를 가져옴\n",
        "        self.linear = nn.Linear(3, 1) #모델의 아키텍쳐? 초기화 # 단순 선형 회귀이므로 input_dim=1, output_dim=1.\n",
        "\n",
        "    def forward(self, x): #이 x 자리에 밑에서 x_train이 들어옴.\n",
        "        return self.linear(x)"
      ],
      "metadata": {
        "id": "EV754-jN7Db8"
      },
      "execution_count": 42,
      "outputs": []
    },
    {
      "cell_type": "code",
      "source": [
        "#model = nn.Linear(1,1) 이걸 클래스 형태로 만든 거임\n",
        "model = LinearRegressionModel() #모델 불러옴"
      ],
      "metadata": {
        "id": "oIrjIIgr7Db8"
      },
      "execution_count": 43,
      "outputs": []
    },
    {
      "cell_type": "code",
      "source": [
        "optimizer = torch.optim.SGD(model.parameters(), lr=1e-5)"
      ],
      "metadata": {
        "id": "oS8G8kt47cbx"
      },
      "execution_count": 44,
      "outputs": []
    },
    {
      "cell_type": "code",
      "source": [
        "nb_epochs = 2000\n",
        "for epoch in range(nb_epochs+1):\n",
        "    # H(x) 계산\n",
        "    prediction = model(x_train) #포워드로 들어가서 그게\n",
        "    # model(x_train)은 model.forward(x_train)와 동일함.\n",
        "    # cost 계산\n",
        "    cost = F.mse_loss(prediction, y_train) # <== 파이토치에서 제공하는 평균 제곱 오차 함수\n",
        "    # cost로 H(x) 개선하는 부분\n",
        "    # gradient를 0으로 초기화\n",
        "    optimizer.zero_grad()\n",
        "    # 비용 함수를 미분하여 gradient 계산\n",
        "    cost.backward()\n",
        "    # W와 b를 업데이트\n",
        "    optimizer.step()\n",
        "    if epoch % 100 == 0:\n",
        "    # 100번마다 로그 출력\n",
        "      print('Epoch {:4d}/{} Cost: {:.6f}'.format(\n",
        "          epoch, nb_epochs, cost.item()\n",
        "      ))"
      ],
      "metadata": {
        "colab": {
          "base_uri": "https://localhost:8080/"
        },
        "id": "_8C8w8EV7P2n",
        "outputId": "04cd7609-88f9-4640-9e57-105b8bacdaf9"
      },
      "execution_count": 45,
      "outputs": [
        {
          "output_type": "stream",
          "name": "stdout",
          "text": [
            "Epoch    0/2000 Cost: 33392.781250\n",
            "Epoch  100/2000 Cost: 14.843318\n",
            "Epoch  200/2000 Cost: 14.080205\n",
            "Epoch  300/2000 Cost: 13.357303\n",
            "Epoch  400/2000 Cost: 12.672513\n",
            "Epoch  500/2000 Cost: 12.023758\n",
            "Epoch  600/2000 Cost: 11.409191\n",
            "Epoch  700/2000 Cost: 10.826982\n",
            "Epoch  800/2000 Cost: 10.275474\n",
            "Epoch  900/2000 Cost: 9.752952\n",
            "Epoch 1000/2000 Cost: 9.257975\n",
            "Epoch 1100/2000 Cost: 8.789070\n",
            "Epoch 1200/2000 Cost: 8.344844\n",
            "Epoch 1300/2000 Cost: 7.923991\n",
            "Epoch 1400/2000 Cost: 7.525289\n",
            "Epoch 1500/2000 Cost: 7.147565\n",
            "Epoch 1600/2000 Cost: 6.789725\n",
            "Epoch 1700/2000 Cost: 6.450704\n",
            "Epoch 1800/2000 Cost: 6.129553\n",
            "Epoch 1900/2000 Cost: 5.825295\n",
            "Epoch 2000/2000 Cost: 5.537011\n"
          ]
        }
      ]
    },
    {
      "cell_type": "code",
      "source": [],
      "metadata": {
        "id": "PsghAbDH7zIO"
      },
      "execution_count": null,
      "outputs": []
    },
    {
      "cell_type": "markdown",
      "source": [
        "# 03-06 미니 배치와 데이터 로드(Mini Batch and Data Load)"
      ],
      "metadata": {
        "id": "Bgz-lZw28nHL"
      }
    },
    {
      "cell_type": "code",
      "source": [],
      "metadata": {
        "id": "K1gkOvLO-IvY"
      },
      "execution_count": null,
      "outputs": []
    },
    {
      "cell_type": "markdown",
      "source": [
        "# 03-07 커스텀 데이터셋(Custom Dataset)\n",
        "\n",
        "\n"
      ],
      "metadata": {
        "id": "lGEkEhA4-A-H"
      }
    },
    {
      "cell_type": "code",
      "source": [
        "#데이터 전처리, 미니배치 등을 클래스화한 걸 커스텀 데이터셋이라고 한다."
      ],
      "metadata": {
        "id": "7uru-D2l8oMd"
      },
      "execution_count": null,
      "outputs": []
    },
    {
      "cell_type": "code",
      "source": [],
      "metadata": {
        "id": "JfrPF61q-buQ"
      },
      "execution_count": null,
      "outputs": []
    },
    {
      "cell_type": "code",
      "source": [],
      "metadata": {
        "id": "dK1FTXnE-boe"
      },
      "execution_count": null,
      "outputs": []
    },
    {
      "cell_type": "code",
      "source": [],
      "metadata": {
        "id": "jBOyP5h3-blN"
      },
      "execution_count": null,
      "outputs": []
    },
    {
      "cell_type": "code",
      "source": [],
      "metadata": {
        "id": "DFiU8edY-bh3"
      },
      "execution_count": null,
      "outputs": []
    }
  ]
}